{
 "cells": [
  {
   "cell_type": "code",
   "execution_count": 3,
   "metadata": {},
   "outputs": [
    {
     "name": "stdout",
     "output_type": "stream",
     "text": [
      "(A or B)\n"
     ]
    }
   ],
   "source": [
    "def simplify(str):\n",
    "    try:\n",
    "        before = str\n",
    "        after = \"\"\n",
    "        while (True):\n",
    "            tmp = list(parenthetic_contents(before))\n",
    "            rep=\"\"\n",
    "            for (l,c) in tmp:\n",
    "                if chk_NOT(c):\n",
    "                    rep = c         \n",
    "                    break\n",
    "            after = before.replace(rep,\"\")\n",
    "            #after = after.replace(\"()\",\"\")\n",
    "            if before!=after:\n",
    "                return after\n",
    "            if before == after:\n",
    "                return before\n",
    "    except:\n",
    "        return \"error\"\n",
    "\n",
    "def chk_NOT(str):\n",
    "    arr = [ i.strip() for  i in str.split(\"NOT\") ] \n",
    "    if len(arr)!=2:\n",
    "        return False\n",
    "    else:\n",
    "        return all(elem == arr[0] for elem in arr)\n",
    "\n",
    "def parenthetic_contents(string):\n",
    "    \"\"\"Generate parenthesized contents in string as pairs (level, contents).\"\"\"\n",
    "    stack = []\n",
    "    for i, c in enumerate(string):\n",
    "        if c == '(':\n",
    "            stack.append(i)\n",
    "        elif c == ')' and stack:\n",
    "            start = stack.pop()\n",
    "            yield (len(stack), string[start + 1: i])\n",
    "\n",
    "if __name__ == '__main__':\n",
    "\n",
    "    str= input(\"pls input string: \") # \"(((A or B) or ((A AND D) NOT (A AND D))) NOT C)\"  #list(parenthetic_contents(str))\n",
    "    print( simplify(str))\n",
    "\n"
   ]
  },
  {
   "cell_type": "code",
   "execution_count": 20,
   "metadata": {},
   "outputs": [
    {
     "data": {
      "text/plain": [
       "False"
      ]
     },
     "execution_count": 20,
     "metadata": {},
     "output_type": "execute_result"
    }
   ],
   "source": [
    "def chk_NOT(str):\n",
    "    arr = [ i.strip() for  i in str.split(\"NOT\") ] \n",
    "    if len(arr)!=2:\n",
    "        return False\n",
    "    else:\n",
    "        return all(elem == arr[0] for elem in arr)\n",
    "\n",
    "\n",
    "str = '(A AND D) NOT (A AND D)'\n",
    "chk_NOT(str)"
   ]
  }
 ],
 "metadata": {
  "kernelspec": {
   "display_name": "Python 3",
   "language": "python",
   "name": "python3"
  },
  "language_info": {
   "codemirror_mode": {
    "name": "ipython",
    "version": 3
   },
   "file_extension": ".py",
   "mimetype": "text/x-python",
   "name": "python",
   "nbconvert_exporter": "python",
   "pygments_lexer": "ipython3",
   "version": "3.10.7"
  }
 },
 "nbformat": 4,
 "nbformat_minor": 2
}
